{
 "cells": [
  {
   "cell_type": "code",
   "execution_count": 3,
   "id": "fa176d51",
   "metadata": {},
   "outputs": [
    {
     "data": {
      "text/html": [
       "<div>\n",
       "<style scoped>\n",
       "    .dataframe tbody tr th:only-of-type {\n",
       "        vertical-align: middle;\n",
       "    }\n",
       "\n",
       "    .dataframe tbody tr th {\n",
       "        vertical-align: top;\n",
       "    }\n",
       "\n",
       "    .dataframe thead th {\n",
       "        text-align: right;\n",
       "    }\n",
       "</style>\n",
       "<table border=\"1\" class=\"dataframe\">\n",
       "  <thead>\n",
       "    <tr style=\"text-align: right;\">\n",
       "      <th></th>\n",
       "      <th>Filename</th>\n",
       "      <th>Brand Name</th>\n",
       "      <th>Label</th>\n",
       "      <th>Tagline</th>\n",
       "    </tr>\n",
       "  </thead>\n",
       "  <tbody>\n",
       "    <tr>\n",
       "      <th>0</th>\n",
       "      <td>output\\Cowbell\\000001.jpg</td>\n",
       "      <td>Cowbell</td>\n",
       "      <td>Genuine</td>\n",
       "      <td>sooo creamy sooo gooood</td>\n",
       "    </tr>\n",
       "    <tr>\n",
       "      <th>1</th>\n",
       "      <td>genLogoOutput\\Rolex\\000003.jpg</td>\n",
       "      <td>Rolex</td>\n",
       "      <td>Fake</td>\n",
       "      <td>antiophthalmic_factor crown for every accompli...</td>\n",
       "    </tr>\n",
       "    <tr>\n",
       "      <th>2</th>\n",
       "      <td>output\\PlayStation\\000005.jpg</td>\n",
       "      <td>PlayStation</td>\n",
       "      <td>Genuine</td>\n",
       "      <td>eNoS Lives.</td>\n",
       "    </tr>\n",
       "    <tr>\n",
       "      <th>3</th>\n",
       "      <td>output\\YouTube\\000004.jpg</td>\n",
       "      <td>YouTube</td>\n",
       "      <td>Genuine</td>\n",
       "      <td>Broadcast Yourself</td>\n",
       "    </tr>\n",
       "    <tr>\n",
       "      <th>4</th>\n",
       "      <td>genLogoOutput\\Lays\\000004.jpg</td>\n",
       "      <td>Lays</td>\n",
       "      <td>Fake</td>\n",
       "      <td>eNoS sprightliness .</td>\n",
       "    </tr>\n",
       "  </tbody>\n",
       "</table>\n",
       "</div>"
      ],
      "text/plain": [
       "                         Filename   Brand Name    Label  \\\n",
       "0       output\\Cowbell\\000001.jpg      Cowbell  Genuine   \n",
       "1  genLogoOutput\\Rolex\\000003.jpg        Rolex     Fake   \n",
       "2   output\\PlayStation\\000005.jpg  PlayStation  Genuine   \n",
       "3       output\\YouTube\\000004.jpg      YouTube  Genuine   \n",
       "4   genLogoOutput\\Lays\\000004.jpg         Lays     Fake   \n",
       "\n",
       "                                             Tagline  \n",
       "0                            sooo creamy sooo gooood  \n",
       "1  antiophthalmic_factor crown for every accompli...  \n",
       "2                                        eNoS Lives.  \n",
       "3                                 Broadcast Yourself  \n",
       "4                               eNoS sprightliness .  "
      ]
     },
     "execution_count": 3,
     "metadata": {},
     "output_type": "execute_result"
    }
   ],
   "source": [
    "import pandas as pd\n",
    "train=pd.read_csv('file_mapping.csv')\n",
    "train.head()\n"
   ]
  },
  {
   "cell_type": "code",
   "execution_count": 4,
   "id": "e8b51db7",
   "metadata": {},
   "outputs": [
    {
     "data": {
      "text/html": [
       "<div>\n",
       "<style scoped>\n",
       "    .dataframe tbody tr th:only-of-type {\n",
       "        vertical-align: middle;\n",
       "    }\n",
       "\n",
       "    .dataframe tbody tr th {\n",
       "        vertical-align: top;\n",
       "    }\n",
       "\n",
       "    .dataframe thead th {\n",
       "        text-align: right;\n",
       "    }\n",
       "</style>\n",
       "<table border=\"1\" class=\"dataframe\">\n",
       "  <thead>\n",
       "    <tr style=\"text-align: right;\">\n",
       "      <th></th>\n",
       "      <th>Label</th>\n",
       "      <th>Tagline</th>\n",
       "    </tr>\n",
       "  </thead>\n",
       "  <tbody>\n",
       "    <tr>\n",
       "      <th>0</th>\n",
       "      <td>Genuine</td>\n",
       "      <td>sooo creamy sooo gooood</td>\n",
       "    </tr>\n",
       "    <tr>\n",
       "      <th>1</th>\n",
       "      <td>Fake</td>\n",
       "      <td>antiophthalmic_factor crown for every accompli...</td>\n",
       "    </tr>\n",
       "    <tr>\n",
       "      <th>2</th>\n",
       "      <td>Genuine</td>\n",
       "      <td>eNoS Lives.</td>\n",
       "    </tr>\n",
       "    <tr>\n",
       "      <th>3</th>\n",
       "      <td>Genuine</td>\n",
       "      <td>Broadcast Yourself</td>\n",
       "    </tr>\n",
       "    <tr>\n",
       "      <th>4</th>\n",
       "      <td>Fake</td>\n",
       "      <td>eNoS sprightliness .</td>\n",
       "    </tr>\n",
       "  </tbody>\n",
       "</table>\n",
       "</div>"
      ],
      "text/plain": [
       "     Label                                            Tagline\n",
       "0  Genuine                            sooo creamy sooo gooood\n",
       "1     Fake  antiophthalmic_factor crown for every accompli...\n",
       "2  Genuine                                        eNoS Lives.\n",
       "3  Genuine                                 Broadcast Yourself\n",
       "4     Fake                               eNoS sprightliness ."
      ]
     },
     "execution_count": 4,
     "metadata": {},
     "output_type": "execute_result"
    }
   ],
   "source": [
    "train=train[['Label','Tagline']]\n",
    "train.head()"
   ]
  },
  {
   "cell_type": "code",
   "execution_count": 5,
   "id": "9bc5a5f2",
   "metadata": {},
   "outputs": [
    {
     "data": {
      "text/html": [
       "<div>\n",
       "<style scoped>\n",
       "    .dataframe tbody tr th:only-of-type {\n",
       "        vertical-align: middle;\n",
       "    }\n",
       "\n",
       "    .dataframe tbody tr th {\n",
       "        vertical-align: top;\n",
       "    }\n",
       "\n",
       "    .dataframe thead th {\n",
       "        text-align: right;\n",
       "    }\n",
       "</style>\n",
       "<table border=\"1\" class=\"dataframe\">\n",
       "  <thead>\n",
       "    <tr style=\"text-align: right;\">\n",
       "      <th></th>\n",
       "      <th>ID</th>\n",
       "      <th>class</th>\n",
       "      <th>text</th>\n",
       "    </tr>\n",
       "  </thead>\n",
       "  <tbody>\n",
       "    <tr>\n",
       "      <th>0</th>\n",
       "      <td>0</td>\n",
       "      <td>Genuine</td>\n",
       "      <td>sooo creamy sooo gooood</td>\n",
       "    </tr>\n",
       "    <tr>\n",
       "      <th>1</th>\n",
       "      <td>1</td>\n",
       "      <td>Fake</td>\n",
       "      <td>antiophthalmic_factor crown for every accompli...</td>\n",
       "    </tr>\n",
       "    <tr>\n",
       "      <th>2</th>\n",
       "      <td>2</td>\n",
       "      <td>Genuine</td>\n",
       "      <td>eNoS Lives.</td>\n",
       "    </tr>\n",
       "    <tr>\n",
       "      <th>3</th>\n",
       "      <td>3</td>\n",
       "      <td>Genuine</td>\n",
       "      <td>Broadcast Yourself</td>\n",
       "    </tr>\n",
       "    <tr>\n",
       "      <th>4</th>\n",
       "      <td>4</td>\n",
       "      <td>Fake</td>\n",
       "      <td>eNoS sprightliness .</td>\n",
       "    </tr>\n",
       "  </tbody>\n",
       "</table>\n",
       "</div>"
      ],
      "text/plain": [
       "   ID    class                                               text\n",
       "0   0  Genuine                            sooo creamy sooo gooood\n",
       "1   1     Fake  antiophthalmic_factor crown for every accompli...\n",
       "2   2  Genuine                                        eNoS Lives.\n",
       "3   3  Genuine                                 Broadcast Yourself\n",
       "4   4     Fake                               eNoS sprightliness ."
      ]
     },
     "execution_count": 5,
     "metadata": {},
     "output_type": "execute_result"
    }
   ],
   "source": [
    "train.reset_index(inplace=True)\n",
    "train.columns=['ID','class','text']\n",
    "train.head()"
   ]
  },
  {
   "cell_type": "code",
   "execution_count": 7,
   "id": "c0ee87b2",
   "metadata": {},
   "outputs": [],
   "source": [
    "import os\n",
    "import re\n",
    "\n",
    "def clean_text(text):\n",
    "    if isinstance(text, str):\n",
    "        cleaned_text = text.lower()  # Convert to lowercase\n",
    "        cleaned_text = re.sub(r'[^\\w\\s]', '', cleaned_text)  # Remove punctuation\n",
    "        return cleaned_text\n",
    "    else:\n",
    "        return str(text)\n",
    "\n",
    "def create_files(df, folder_path):\n",
    "    \"\"\"\n",
    "    Create files from a dataframe where each row is saved as a text file named after the ID column.\n",
    "    The text file contains the cleaned value in the text column.\n",
    "    \n",
    "    Args:\n",
    "        df (pandas.DataFrame): A dataframe with columns 'ID', 'text', and 'target'\n",
    "        folder_path (str): A string indicating the path to the folder where the files will be stored.\n",
    "        \n",
    "    Returns:\n",
    "        None\n",
    "    \"\"\"\n",
    "    if not os.path.exists(folder_path):\n",
    "        os.makedirs(folder_path)\n",
    "        \n",
    "    for index, row in df.iterrows():\n",
    "        ID_value = row['ID']\n",
    "        text_value = row['text']\n",
    "        \n",
    "        cleaned_text = clean_text(text_value)\n",
    "        \n",
    "        file_name = os.path.join(folder_path, f\"{ID_value}.txt\")\n",
    "        \n",
    "        with open(file_name, 'w') as f:\n",
    "            f.write(str(cleaned_text))"
   ]
  },
  {
   "cell_type": "code",
   "execution_count": 8,
   "id": "c49dbe55",
   "metadata": {},
   "outputs": [],
   "source": [
    "create_files(train, './data')"
   ]
  },
  {
   "cell_type": "code",
   "execution_count": 9,
   "id": "7674a884",
   "metadata": {},
   "outputs": [
    {
     "data": {
      "text/plain": [
       "Fake       550\n",
       "Genuine    275\n",
       "Name: class, dtype: int64"
      ]
     },
     "execution_count": 9,
     "metadata": {},
     "output_type": "execute_result"
    }
   ],
   "source": [
    "train['class'].value_counts()"
   ]
  },
  {
   "cell_type": "code",
   "execution_count": 10,
   "id": "019693d6",
   "metadata": {},
   "outputs": [
    {
     "data": {
      "text/plain": [
       "Fake       66.67\n",
       "Genuine    33.33\n",
       "Name: class, dtype: float64"
      ]
     },
     "execution_count": 10,
     "metadata": {},
     "output_type": "execute_result"
    }
   ],
   "source": [
    "round(train['class'].value_counts()*100/len(train),2)"
   ]
  },
  {
   "cell_type": "code",
   "execution_count": 11,
   "id": "5ae3a7e2",
   "metadata": {},
   "outputs": [
    {
     "data": {
      "text/html": [
       "<div>\n",
       "<style scoped>\n",
       "    .dataframe tbody tr th:only-of-type {\n",
       "        vertical-align: middle;\n",
       "    }\n",
       "\n",
       "    .dataframe tbody tr th {\n",
       "        vertical-align: top;\n",
       "    }\n",
       "\n",
       "    .dataframe thead th {\n",
       "        text-align: right;\n",
       "    }\n",
       "</style>\n",
       "<table border=\"1\" class=\"dataframe\">\n",
       "  <thead>\n",
       "    <tr style=\"text-align: right;\">\n",
       "      <th></th>\n",
       "      <th>ID</th>\n",
       "      <th>class</th>\n",
       "      <th>text</th>\n",
       "    </tr>\n",
       "  </thead>\n",
       "  <tbody>\n",
       "    <tr>\n",
       "      <th>0</th>\n",
       "      <td>0</td>\n",
       "      <td>Genuine</td>\n",
       "      <td>sooo creamy sooo gooood</td>\n",
       "    </tr>\n",
       "    <tr>\n",
       "      <th>1</th>\n",
       "      <td>1</td>\n",
       "      <td>Fake</td>\n",
       "      <td>antiophthalmic_factor crown for every accompli...</td>\n",
       "    </tr>\n",
       "    <tr>\n",
       "      <th>2</th>\n",
       "      <td>2</td>\n",
       "      <td>Genuine</td>\n",
       "      <td>eNoS Lives.</td>\n",
       "    </tr>\n",
       "    <tr>\n",
       "      <th>3</th>\n",
       "      <td>3</td>\n",
       "      <td>Genuine</td>\n",
       "      <td>Broadcast Yourself</td>\n",
       "    </tr>\n",
       "    <tr>\n",
       "      <th>4</th>\n",
       "      <td>4</td>\n",
       "      <td>Fake</td>\n",
       "      <td>eNoS sprightliness .</td>\n",
       "    </tr>\n",
       "  </tbody>\n",
       "</table>\n",
       "</div>"
      ],
      "text/plain": [
       "   ID    class                                               text\n",
       "0   0  Genuine                            sooo creamy sooo gooood\n",
       "1   1     Fake  antiophthalmic_factor crown for every accompli...\n",
       "2   2  Genuine                                        eNoS Lives.\n",
       "3   3  Genuine                                 Broadcast Yourself\n",
       "4   4     Fake                               eNoS sprightliness ."
      ]
     },
     "execution_count": 11,
     "metadata": {},
     "output_type": "execute_result"
    }
   ],
   "source": [
    "train.head()"
   ]
  },
  {
   "cell_type": "code",
   "execution_count": 12,
   "id": "78014fa6",
   "metadata": {},
   "outputs": [
    {
     "data": {
      "text/html": [
       "<div>\n",
       "<style scoped>\n",
       "    .dataframe tbody tr th:only-of-type {\n",
       "        vertical-align: middle;\n",
       "    }\n",
       "\n",
       "    .dataframe tbody tr th {\n",
       "        vertical-align: top;\n",
       "    }\n",
       "\n",
       "    .dataframe thead th {\n",
       "        text-align: right;\n",
       "    }\n",
       "</style>\n",
       "<table border=\"1\" class=\"dataframe\">\n",
       "  <thead>\n",
       "    <tr style=\"text-align: right;\">\n",
       "      <th></th>\n",
       "      <th>label</th>\n",
       "      <th>filename</th>\n",
       "    </tr>\n",
       "  </thead>\n",
       "  <tbody>\n",
       "    <tr>\n",
       "      <th>0</th>\n",
       "      <td>Genuine</td>\n",
       "      <td>./data/0.txt</td>\n",
       "    </tr>\n",
       "    <tr>\n",
       "      <th>1</th>\n",
       "      <td>Fake</td>\n",
       "      <td>./data/1.txt</td>\n",
       "    </tr>\n",
       "    <tr>\n",
       "      <th>2</th>\n",
       "      <td>Genuine</td>\n",
       "      <td>./data/2.txt</td>\n",
       "    </tr>\n",
       "    <tr>\n",
       "      <th>3</th>\n",
       "      <td>Genuine</td>\n",
       "      <td>./data/3.txt</td>\n",
       "    </tr>\n",
       "    <tr>\n",
       "      <th>4</th>\n",
       "      <td>Fake</td>\n",
       "      <td>./data/4.txt</td>\n",
       "    </tr>\n",
       "  </tbody>\n",
       "</table>\n",
       "</div>"
      ],
      "text/plain": [
       "     label      filename\n",
       "0  Genuine  ./data/0.txt\n",
       "1     Fake  ./data/1.txt\n",
       "2  Genuine  ./data/2.txt\n",
       "3  Genuine  ./data/3.txt\n",
       "4     Fake  ./data/4.txt"
      ]
     },
     "execution_count": 12,
     "metadata": {},
     "output_type": "execute_result"
    }
   ],
   "source": [
    "train['filename']='./data/'+train['ID'].astype('str')+'.txt'\n",
    "train=train.drop(['ID','text'],axis=1)\n",
    "train.columns=['label','filename']\n",
    "train.head()"
   ]
  },
  {
   "cell_type": "code",
   "execution_count": 13,
   "id": "5564f512",
   "metadata": {},
   "outputs": [],
   "source": [
    "from sklearn.model_selection import train_test_split\n",
    "train,test= train_test_split( train, test_size=0.2, random_state=42,shuffle=True, stratify=train['label'])"
   ]
  },
  {
   "cell_type": "code",
   "execution_count": 14,
   "id": "b398562c",
   "metadata": {},
   "outputs": [
    {
     "data": {
      "text/html": [
       "<div>\n",
       "<style scoped>\n",
       "    .dataframe tbody tr th:only-of-type {\n",
       "        vertical-align: middle;\n",
       "    }\n",
       "\n",
       "    .dataframe tbody tr th {\n",
       "        vertical-align: top;\n",
       "    }\n",
       "\n",
       "    .dataframe thead th {\n",
       "        text-align: right;\n",
       "    }\n",
       "</style>\n",
       "<table border=\"1\" class=\"dataframe\">\n",
       "  <thead>\n",
       "    <tr style=\"text-align: right;\">\n",
       "      <th></th>\n",
       "      <th>label</th>\n",
       "      <th>count</th>\n",
       "    </tr>\n",
       "  </thead>\n",
       "  <tbody>\n",
       "    <tr>\n",
       "      <th>0</th>\n",
       "      <td>Fake</td>\n",
       "      <td>440</td>\n",
       "    </tr>\n",
       "    <tr>\n",
       "      <th>1</th>\n",
       "      <td>Genuine</td>\n",
       "      <td>220</td>\n",
       "    </tr>\n",
       "  </tbody>\n",
       "</table>\n",
       "</div>"
      ],
      "text/plain": [
       "     label  count\n",
       "0     Fake    440\n",
       "1  Genuine    220"
      ]
     },
     "execution_count": 14,
     "metadata": {},
     "output_type": "execute_result"
    }
   ],
   "source": [
    "count=(train.label.value_counts()).to_frame()\n",
    "count.reset_index(inplace=True)\n",
    "count.columns=['label','count']\n",
    "count"
   ]
  },
  {
   "cell_type": "code",
   "execution_count": 15,
   "id": "3c730393",
   "metadata": {},
   "outputs": [
    {
     "data": {
      "text/html": [
       "<div>\n",
       "<style scoped>\n",
       "    .dataframe tbody tr th:only-of-type {\n",
       "        vertical-align: middle;\n",
       "    }\n",
       "\n",
       "    .dataframe tbody tr th {\n",
       "        vertical-align: top;\n",
       "    }\n",
       "\n",
       "    .dataframe thead th {\n",
       "        text-align: right;\n",
       "    }\n",
       "</style>\n",
       "<table border=\"1\" class=\"dataframe\">\n",
       "  <thead>\n",
       "    <tr style=\"text-align: right;\">\n",
       "      <th></th>\n",
       "      <th>label</th>\n",
       "      <th>filename</th>\n",
       "    </tr>\n",
       "  </thead>\n",
       "  <tbody>\n",
       "    <tr>\n",
       "      <th>0</th>\n",
       "      <td>Fake</td>\n",
       "      <td>./data/207.txt</td>\n",
       "    </tr>\n",
       "    <tr>\n",
       "      <th>1</th>\n",
       "      <td>Fake</td>\n",
       "      <td>./data/570.txt</td>\n",
       "    </tr>\n",
       "    <tr>\n",
       "      <th>2</th>\n",
       "      <td>Fake</td>\n",
       "      <td>./data/210.txt</td>\n",
       "    </tr>\n",
       "    <tr>\n",
       "      <th>3</th>\n",
       "      <td>Fake</td>\n",
       "      <td>./data/164.txt</td>\n",
       "    </tr>\n",
       "    <tr>\n",
       "      <th>4</th>\n",
       "      <td>Fake</td>\n",
       "      <td>./data/427.txt</td>\n",
       "    </tr>\n",
       "  </tbody>\n",
       "</table>\n",
       "</div>"
      ],
      "text/plain": [
       "  label        filename\n",
       "0  Fake  ./data/207.txt\n",
       "1  Fake  ./data/570.txt\n",
       "2  Fake  ./data/210.txt\n",
       "3  Fake  ./data/164.txt\n",
       "4  Fake  ./data/427.txt"
      ]
     },
     "execution_count": 15,
     "metadata": {},
     "output_type": "execute_result"
    }
   ],
   "source": [
    "train=train.sample(n=len(train))\n",
    "train.reset_index(inplace=True,drop=True)\n",
    "train.head()"
   ]
  },
  {
   "cell_type": "code",
   "execution_count": 16,
   "id": "53431d49",
   "metadata": {},
   "outputs": [
    {
     "data": {
      "text/html": [
       "<div>\n",
       "<style scoped>\n",
       "    .dataframe tbody tr th:only-of-type {\n",
       "        vertical-align: middle;\n",
       "    }\n",
       "\n",
       "    .dataframe tbody tr th {\n",
       "        vertical-align: top;\n",
       "    }\n",
       "\n",
       "    .dataframe thead th {\n",
       "        text-align: right;\n",
       "    }\n",
       "</style>\n",
       "<table border=\"1\" class=\"dataframe\">\n",
       "  <thead>\n",
       "    <tr style=\"text-align: right;\">\n",
       "      <th></th>\n",
       "      <th>label</th>\n",
       "      <th>filename</th>\n",
       "    </tr>\n",
       "  </thead>\n",
       "  <tbody>\n",
       "    <tr>\n",
       "      <th>0</th>\n",
       "      <td>Fake</td>\n",
       "      <td>./data/52.txt</td>\n",
       "    </tr>\n",
       "    <tr>\n",
       "      <th>1</th>\n",
       "      <td>Fake</td>\n",
       "      <td>./data/680.txt</td>\n",
       "    </tr>\n",
       "    <tr>\n",
       "      <th>2</th>\n",
       "      <td>Fake</td>\n",
       "      <td>./data/341.txt</td>\n",
       "    </tr>\n",
       "    <tr>\n",
       "      <th>3</th>\n",
       "      <td>Fake</td>\n",
       "      <td>./data/496.txt</td>\n",
       "    </tr>\n",
       "    <tr>\n",
       "      <th>4</th>\n",
       "      <td>Genuine</td>\n",
       "      <td>./data/498.txt</td>\n",
       "    </tr>\n",
       "  </tbody>\n",
       "</table>\n",
       "</div>"
      ],
      "text/plain": [
       "     label        filename\n",
       "0     Fake   ./data/52.txt\n",
       "1     Fake  ./data/680.txt\n",
       "2     Fake  ./data/341.txt\n",
       "3     Fake  ./data/496.txt\n",
       "4  Genuine  ./data/498.txt"
      ]
     },
     "execution_count": 16,
     "metadata": {},
     "output_type": "execute_result"
    }
   ],
   "source": [
    "test=test.sample(n=len(test))\n",
    "test.reset_index(inplace=True,drop=True)\n",
    "test.head()"
   ]
  },
  {
   "cell_type": "code",
   "execution_count": 17,
   "id": "c6968960",
   "metadata": {},
   "outputs": [
    {
     "data": {
      "text/plain": [
       "((660, 2), (165, 2))"
      ]
     },
     "execution_count": 17,
     "metadata": {},
     "output_type": "execute_result"
    }
   ],
   "source": [
    "train.shape,test.shape"
   ]
  },
  {
   "cell_type": "code",
   "execution_count": 18,
   "id": "216d69ec",
   "metadata": {},
   "outputs": [],
   "source": [
    "import os\n",
    "newpath = r'./train' \n",
    "if not os.path.exists(newpath):\n",
    "    os.makedirs(newpath)"
   ]
  },
  {
   "cell_type": "code",
   "execution_count": 19,
   "id": "cb1d8093",
   "metadata": {},
   "outputs": [
    {
     "data": {
      "text/plain": [
       "['Fake', 'Genuine']"
      ]
     },
     "execution_count": 19,
     "metadata": {},
     "output_type": "execute_result"
    }
   ],
   "source": [
    "class_names = list(train.label.unique())\n",
    "class_names[:5]"
   ]
  },
  {
   "cell_type": "code",
   "execution_count": 20,
   "id": "59fecee4",
   "metadata": {},
   "outputs": [],
   "source": [
    "import shutil, os\n",
    "#creating subfolders\n",
    "for c in class_names:\n",
    "    dest =  r'./train/'+str(c)\n",
    "    os.makedirs(dest)\n",
    "    for i in list(train[train['label']==c]['filename']): # Image Id\n",
    "        move_image_to_cat = shutil.copy(i, dest)"
   ]
  },
  {
   "cell_type": "code",
   "execution_count": 21,
   "id": "b10f8835",
   "metadata": {},
   "outputs": [],
   "source": [
    "newpath = r'./test' \n",
    "if not os.path.exists(newpath):\n",
    "    os.makedirs(newpath)"
   ]
  },
  {
   "cell_type": "code",
   "execution_count": 22,
   "id": "62460010",
   "metadata": {},
   "outputs": [],
   "source": [
    "import shutil, os\n",
    "#creating subfolders\n",
    "for c in class_names:\n",
    "    dest =  r'./test/'+str(c)\n",
    "    os.makedirs(dest)\n",
    "    for i in list(test[test['label']==c]['filename']): # Image Id\n",
    "        move_image_to_cat = shutil.copy(i, dest)"
   ]
  },
  {
   "cell_type": "code",
   "execution_count": 23,
   "id": "22de1075",
   "metadata": {},
   "outputs": [],
   "source": [
    "import shutil\n",
    "shutil.rmtree('./data')"
   ]
  },
  {
   "cell_type": "code",
   "execution_count": null,
   "id": "193a52b9",
   "metadata": {},
   "outputs": [],
   "source": []
  }
 ],
 "metadata": {
  "kernelspec": {
   "display_name": "Python 3 (ipykernel)",
   "language": "python",
   "name": "python3"
  },
  "language_info": {
   "codemirror_mode": {
    "name": "ipython",
    "version": 3
   },
   "file_extension": ".py",
   "mimetype": "text/x-python",
   "name": "python",
   "nbconvert_exporter": "python",
   "pygments_lexer": "ipython3",
   "version": "3.9.12"
  }
 },
 "nbformat": 4,
 "nbformat_minor": 5
}
